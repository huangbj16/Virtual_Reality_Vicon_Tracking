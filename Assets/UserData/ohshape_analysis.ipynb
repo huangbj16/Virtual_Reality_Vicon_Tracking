{
 "cells": [
  {
   "cell_type": "code",
   "execution_count": 1,
   "id": "29fcaa6b",
   "metadata": {},
   "outputs": [],
   "source": [
    "import os\n",
    "import json\n",
    "import numpy as np\n",
    "import matplotlib.pyplot as plt"
   ]
  },
  {
   "cell_type": "markdown",
   "id": "5df8112b",
   "metadata": {},
   "source": [
    "## Load Data"
   ]
  },
  {
   "cell_type": "code",
   "execution_count": 8,
   "id": "878ee72b",
   "metadata": {},
   "outputs": [
    {
     "data": {
      "text/plain": [
       "' collision event sample\\n{\\n    \"actutorId\":92,\\n    \"timestamp\":43.79999923706055,\\n    \"duration\":1.0400009155273438,\\n    \"other\":\"shape1\",\\n    \"detail\":\"Cube.029\"\\n},\\n'"
      ]
     },
     "execution_count": 8,
     "metadata": {},
     "output_type": "execute_result"
    }
   ],
   "source": [
    "# dota format\n",
    "\"\"\" collision event sample\n",
    "{\n",
    "    \"actutorId\":92,\n",
    "    \"timestamp\":43.79999923706055,\n",
    "    \"duration\":1.0400009155273438,\n",
    "    \"other\":\"shape1\",\n",
    "    \"detail\":\"Cube.029\"\n",
    "},\n",
    "\"\"\""
   ]
  },
  {
   "cell_type": "code",
   "execution_count": 2,
   "id": "5c21f895",
   "metadata": {},
   "outputs": [],
   "source": [
    "num_user = 9\n",
    "folder_paths = [\"OhShape/user3/\", \"OhShape/user4/\", \"OhShape/user5/\", \"OhShape/user6/\", \"OhShape/user7/\", \"OhShape/user8/\", \"OhShape/user9/\", \"OhShape/user10/\", \"OhShape/user11/\"]\n",
    "num_mode = 4 # PRACTICE, CLEAN, VISUAL, HAPTIC\n",
    "mode_list = [\"PRACTICE\", \"CLEAN\", \"VISUAL\", \"HAPTIC\"]\n",
    "num_actuator = 116\n",
    "actuator_ids = [ 1, 2, 3, 4, 5, 6, 7, 8, 9, 10,\n",
    "                31, 32, 33, 34, 35, 36, 37, 38, 39, 40,\n",
    "                61,  62,  63,  64,  65,  66,  67,  68,  69,  70,  71,  72,  73,  74,  75,  76,  77,  78,  79,  80, \n",
    "                91,  92,  93,  94,  95,  96,  97,  98,  99, 100, 101, 102, 103, 104, 105, 106, 107, 108, 109, 110, \n",
    "                121, 122, 123, 124, 125, 126, 127, 128, 129, 130, 131, 132, 133, 134, 135, 136, 137, 138, 139, 140, \n",
    "                151, 152, 153, 154, 155, 156, 157, 158, 159, 160, 161, 162, 163, 164, 165, 166, 167, 168, 169, 170, \n",
    "                181, 182, 183, 184, 185, 186, 187, 188,\n",
    "                211, 212, 213, 214, 215, 216, 217, 218]\n",
    "\n",
    "actuator_collision_count_array = np.zeros((num_user, num_actuator), dtype=np.int32)\n",
    "collision_count_array_prac = np.zeros((num_user, num_mode), dtype=np.int32)\n",
    "collision_count_array_test = np.zeros((num_user, num_mode), dtype=np.int32)\n",
    "collision_duration_array_test = np.zeros((num_user, num_mode), dtype=np.float32)\n"
   ]
  },
  {
   "cell_type": "code",
   "execution_count": 3,
   "id": "fa12be6a",
   "metadata": {},
   "outputs": [],
   "source": [
    "def remove_duplicate_entry(json_objects):\n",
    "    # Convert each JSON object to a string and add it to a set to remove duplicates\n",
    "    unique_json_objects_str = {json.dumps(d, sort_keys=True) for d in json_objects}\n",
    "\n",
    "    # Convert each unique JSON string back to a JSON object\n",
    "    unique_json_objects = [json.loads(s) for s in unique_json_objects_str]\n",
    "    \n",
    "    return unique_json_objects"
   ]
  },
  {
   "cell_type": "code",
   "execution_count": 4,
   "id": "69aea3a2",
   "metadata": {
    "scrolled": true
   },
   "outputs": [
    {
     "name": "stdout",
     "output_type": "stream",
     "text": [
      "loading OhShape/user3/\n",
      "load 09-07-2023-02-04-42.json, mode = PRACTICE, collision count = 290, after removing duplicate = 210\n",
      "load 09-07-2023-02-11-05.json, mode = CLEAN, collision count = 2010, after removing duplicate = 1425\n",
      "load 09-07-2023-02-25-50.json, mode = VISUAL, collision count = 876, after removing duplicate = 603\n",
      "load 09-07-2023-02-40-51.json, mode = HAPTIC, collision count = 1472, after removing duplicate = 1108\n",
      "in mode PRACTICE, practice collison = 146, test collison = 64\n",
      "in mode CLEAN, practice collison = 690, test collison = 735\n",
      "in mode VISUAL, practice collison = 295, test collison = 308\n",
      "in mode HAPTIC, practice collison = 667, test collison = 441\n",
      "PRACTICE 0.61937415599823\n",
      "CLEAN 0.6379460548867985\n",
      "VISUAL 0.7276297730284852\n",
      "HAPTIC 0.5636976938399058\n",
      "loading OhShape/user4/\n",
      "load 09-07-2023-04-50-04.json, mode = PRACTICE, collision count = 926, after removing duplicate = 613\n",
      "load 09-07-2023-04-56-56.json, mode = VISUAL, collision count = 1678, after removing duplicate = 1226\n",
      "load 09-07-2023-05-07-58.json, mode = HAPTIC, collision count = 2950, after removing duplicate = 2086\n",
      "load 09-07-2023-05-20-32.json, mode = CLEAN, collision count = 3083, after removing duplicate = 2099\n",
      "in mode PRACTICE, practice collison = 315, test collison = 298\n",
      "in mode CLEAN, practice collison = 1020, test collison = 1079\n",
      "in mode VISUAL, practice collison = 526, test collison = 700\n",
      "in mode HAPTIC, practice collison = 1075, test collison = 1011\n",
      "PRACTICE 0.7717449905088284\n",
      "CLEAN 0.8109913420301549\n",
      "VISUAL 0.67047119140625\n",
      "HAPTIC 0.762156598763697\n",
      "loading OhShape/user5/\n",
      "load 09-07-2023-08-23-14.json, mode = PRACTICE, collision count = 340, after removing duplicate = 254\n",
      "load 09-07-2023-08-39-34.json, mode = HAPTIC, collision count = 2156, after removing duplicate = 1525\n",
      "load 09-07-2023-08-53-16.json, mode = CLEAN, collision count = 2222, after removing duplicate = 1591\n",
      "load 09-07-2023-09-16-51.json, mode = VISUAL, collision count = 1057, after removing duplicate = 723\n",
      "in mode PRACTICE, practice collison = 133, test collison = 121\n",
      "in mode CLEAN, practice collison = 764, test collison = 827\n",
      "in mode VISUAL, practice collison = 338, test collison = 385\n",
      "in mode HAPTIC, practice collison = 822, test collison = 703\n",
      "PRACTICE 0.7217351424792582\n",
      "CLEAN 0.9390205650836986\n",
      "VISUAL 0.5277401218166599\n",
      "HAPTIC 0.9605689991588783\n",
      "loading OhShape/user6/\n",
      "load 09-08-2023-11-33-21.json, mode = PRACTICE, collision count = 691, after removing duplicate = 460\n",
      "load 09-08-2023-11-46-46.json, mode = CLEAN, collision count = 2616, after removing duplicate = 1901\n",
      "load 09-08-2023-11-57-31.json, mode = VISUAL, collision count = 1963, after removing duplicate = 1391\n",
      "load 09-08-2023-12-12-39.json, mode = HAPTIC, collision count = 2214, after removing duplicate = 1560\n",
      "in mode PRACTICE, practice collison = 254, test collison = 206\n",
      "in mode CLEAN, practice collison = 992, test collison = 909\n",
      "in mode VISUAL, practice collison = 689, test collison = 702\n",
      "in mode HAPTIC, practice collison = 662, test collison = 898\n",
      "PRACTICE 0.7211657774101183\n",
      "CLEAN 0.9527073053374674\n",
      "VISUAL 0.876752587125512\n",
      "HAPTIC 0.9145318267074619\n",
      "loading OhShape/user7/\n",
      "load 09-08-2023-01-37-02.json, mode = PRACTICE, collision count = 754, after removing duplicate = 527\n",
      "load 09-08-2023-01-49-59.json, mode = VISUAL, collision count = 1451, after removing duplicate = 1056\n",
      "load 09-08-2023-02-07-36.json, mode = HAPTIC, collision count = 2091, after removing duplicate = 1473\n",
      "load 09-08-2023-02-19-00.json, mode = CLEAN, collision count = 1790, after removing duplicate = 1314\n",
      "in mode PRACTICE, practice collison = 228, test collison = 299\n",
      "in mode CLEAN, practice collison = 721, test collison = 593\n",
      "in mode VISUAL, practice collison = 518, test collison = 538\n",
      "in mode HAPTIC, practice collison = 860, test collison = 613\n",
      "PRACTICE 0.9099023110890468\n",
      "CLEAN 0.7813147597932092\n",
      "VISUAL 0.5925098121387807\n",
      "HAPTIC 0.7909620947783378\n",
      "loading OhShape/user8/\n",
      "load 09-08-2023-05-46-13.json, mode = PRACTICE, collision count = 451, after removing duplicate = 353\n",
      "load 09-08-2023-06-00-30.json, mode = HAPTIC, collision count = 895, after removing duplicate = 748\n",
      "load 09-08-2023-06-19-21.json, mode = CLEAN, collision count = 1184, after removing duplicate = 927\n",
      "load 09-08-2023-06-30-55.json, mode = VISUAL, collision count = 681, after removing duplicate = 545\n",
      "in mode PRACTICE, practice collison = 231, test collison = 122\n",
      "in mode CLEAN, practice collison = 485, test collison = 442\n",
      "in mode VISUAL, practice collison = 303, test collison = 242\n",
      "in mode HAPTIC, practice collison = 516, test collison = 232\n",
      "PRACTICE 0.5757388755923412\n",
      "CLEAN 0.4952261652881743\n",
      "VISUAL 0.4347112040874387\n",
      "HAPTIC 0.4559491256187702\n",
      "loading OhShape/user9/\n",
      "load 09-09-2023-01-06-06.json, mode = HAPTIC, collision count = 838, after removing duplicate = 681\n",
      "load 09-09-2023-12-17-06.json, mode = PRACTICE, collision count = 475, after removing duplicate = 343\n",
      "load 09-09-2023-12-31-06.json, mode = CLEAN, collision count = 2049, after removing duplicate = 1571\n",
      "load 09-09-2023-12-43-23.json, mode = VISUAL, collision count = 1083, after removing duplicate = 832\n",
      "in mode PRACTICE, practice collison = 236, test collison = 107\n",
      "in mode CLEAN, practice collison = 818, test collison = 753\n",
      "in mode VISUAL, practice collison = 449, test collison = 383\n",
      "in mode HAPTIC, practice collison = 406, test collison = 275\n",
      "PRACTICE 0.5664493168625876\n",
      "CLEAN 0.767344420332991\n",
      "VISUAL 0.7483559351988311\n",
      "HAPTIC 0.7385458096590909\n",
      "loading OhShape/user10/\n",
      "load 09-09-2023-02-46-36.json, mode = PRACTICE, collision count = 458, after removing duplicate = 320\n",
      "load 09-09-2023-02-59-14.json, mode = VISUAL, collision count = 637, after removing duplicate = 453\n",
      "load 09-09-2023-03-12-10.json, mode = HAPTIC, collision count = 1158, after removing duplicate = 835\n",
      "load 09-09-2023-03-27-33.json, mode = CLEAN, collision count = 1623, after removing duplicate = 1189\n",
      "in mode PRACTICE, practice collison = 216, test collison = 104\n",
      "in mode CLEAN, practice collison = 597, test collison = 592\n",
      "in mode VISUAL, practice collison = 276, test collison = 177\n",
      "in mode HAPTIC, practice collison = 470, test collison = 365\n",
      "PRACTICE 0.6003875732421875\n",
      "CLEAN 0.9215192279300174\n",
      "VISUAL 0.7546893620895128\n",
      "HAPTIC 0.7353967117936644\n",
      "loading OhShape/user11/\n",
      "load 09-09-2023-05-50-00.json, mode = PRACTICE, collision count = 635, after removing duplicate = 442\n",
      "load 09-09-2023-06-03-37.json, mode = HAPTIC, collision count = 1895, after removing duplicate = 1341\n",
      "load 09-09-2023-06-17-02.json, mode = CLEAN, collision count = 2248, after removing duplicate = 1586\n",
      "load 09-09-2023-06-30-38.json, mode = VISUAL, collision count = 1651, after removing duplicate = 1120\n",
      "in mode PRACTICE, practice collison = 251, test collison = 191\n",
      "in mode CLEAN, practice collison = 721, test collison = 865\n",
      "in mode VISUAL, practice collison = 466, test collison = 654\n",
      "in mode HAPTIC, practice collison = 772, test collison = 569\n",
      "PRACTICE 0.683088851848822\n",
      "CLEAN 0.7941730124412933\n",
      "VISUAL 0.6912545953686449\n",
      "HAPTIC 0.7267661538819646\n"
     ]
    }
   ],
   "source": [
    "for user_index in range(num_user):\n",
    "    folder_path = folder_paths[user_index]\n",
    "    print(f\"loading {folder_path}\")\n",
    "    \n",
    "    # initialize\n",
    "    actuator_array = {\"PRACTICE\":[], \"CLEAN\":[], \"VISUAL\":[], \"HAPTIC\":[]}\n",
    "    duration_array = {\"PRACTICE\":[], \"CLEAN\":[], \"VISUAL\":[], \"HAPTIC\":[]}\n",
    "    wall_array = {\"PRACTICE\":[], \"CLEAN\":[], \"VISUAL\":[], \"HAPTIC\":[]}\n",
    "    shape_array = {\"PRACTICE\":[], \"CLEAN\":[], \"VISUAL\":[], \"HAPTIC\":[]}\n",
    "    \n",
    "    json_files = [f for f in os.listdir(folder_path) if os.path.isfile(os.path.join(folder_path, f)) and f.endswith('.json')]\n",
    "    \n",
    "    # load data\n",
    "    for json_file in json_files:\n",
    "        with open(os.path.join(folder_path, json_file), 'r') as file:\n",
    "            data = json.load(file)\n",
    "        mode = data[\"mode\"]\n",
    "        shape_indexs = data[\"shapeIndexs\"]\n",
    "        collision_count = data[\"numberOfCollusions\"]\n",
    "        collision_data = remove_duplicate_entry(data['collusionData']) # remove duplicate entry\n",
    "        print(f\"load {json_file}, mode = {mode}, collision count = {collision_count}, after removing duplicate = {len(collision_data)}\")\n",
    "        for i in range(len(collision_data)):\n",
    "            actuator_array[mode].append(collision_data[i]['actutorId'])\n",
    "            duration_array[mode].append(collision_data[i]['duration'])\n",
    "            wall_index = int(collision_data[i]['other'].replace('shape', ''))\n",
    "            wall_array[mode].append(wall_index)\n",
    "            shape_array[mode].append(shape_indexs[wall_index])\n",
    "    \n",
    "    # compare the length of practice and test data, showing the learning effect\n",
    "    # only keep the test wall data\n",
    "    for mode_index in range(len(mode_list)):\n",
    "        mode = mode_list[mode_index]\n",
    "        prac_wall_indices = np.where(np.array(wall_array[mode]) % 2 == 0)\n",
    "        test_wall_indices = np.where(np.array(wall_array[mode]) % 2 == 1)\n",
    "        collision_count_array_prac[user_index][mode_index] = len(prac_wall_indices[0])\n",
    "        collision_count_array_test[user_index][mode_index] = len(test_wall_indices[0])\n",
    "        print(f\"in mode {mode}, practice collison = {len(prac_wall_indices[0])}, test collison = {len(test_wall_indices[0])}\")\n",
    "        actuator_array[mode] = np.array(actuator_array[mode])[test_wall_indices]\n",
    "        duration_array[mode] = np.array(duration_array[mode])[test_wall_indices]\n",
    "        wall_array[mode] = np.array(wall_array[mode])[test_wall_indices]\n",
    "        shape_array[mode] = np.array(shape_array[mode])[test_wall_indices]\n",
    "        \n",
    "    \n",
    "    # average collision duration time\n",
    "    for mode_index in range(len(mode_list)):\n",
    "        mode = mode_list[mode_index]\n",
    "        collision_duration_array_test[user_index][mode_index] = np.mean(duration_array[mode])\n",
    "        print(mode, np.mean(duration_array[mode]))\n",
    "    \n",
    "    \n",
    "    # count collisions of each actuator\n",
    "    unique_actuators, actuator_counts = np.unique(actuator_array[\"HAPTIC\"], return_counts=True)\n",
    "    for actuator, count in zip(unique_actuators, actuator_counts):\n",
    "        actuator_collision_count_array[user_index][actuator_ids.index(actuator)] += count"
   ]
  },
  {
   "cell_type": "code",
   "execution_count": 10,
   "id": "6c052f63",
   "metadata": {},
   "outputs": [
    {
     "data": {
      "text/plain": [
       "array([  0,   0,   0,   0,   0,   7,   3,   0,   0,   0,   1,   1,   1,\n",
       "         2,   5,   0,   0,   0,   0,   0,  29,  20,  21,  32,  65,  51,\n",
       "        54,  56,  61,  69,  75,  67,  64,  62,  75,  64,  51,  53,  42,\n",
       "        35,  79, 109, 118, 106,  90, 105,  95,  79,  72,  75,  67,  68,\n",
       "        63,  65,  60,  72,  53,  64,  65,  57,  32,  30,  30,  33,  60,\n",
       "        64,  67,  59,  60,  70,  48,  40,  41,  42,  44,  52,  43,  51,\n",
       "        58,  47,  82, 118, 129, 107,  89,  83,  79,  63,  54,  56,  65,\n",
       "        63,  66,  72,  72,  62,  41,  48,  53,  40,   0,   0,   0,   5,\n",
       "         4,   7,   3,   3,  13,   2,   5,   5,  15,   2,   1,   1])"
      ]
     },
     "execution_count": 10,
     "metadata": {},
     "output_type": "execute_result"
    }
   ],
   "source": [
    "actuator_collision_sum = np.sum(actuator_collision_count_array, axis = 0)\n",
    "actuator_collision_sum"
   ]
  },
  {
   "cell_type": "code",
   "execution_count": 11,
   "id": "10c714e0",
   "metadata": {},
   "outputs": [],
   "source": [
    "with open('actuator_collision_sum.csv', 'w') as g:\n",
    "    for i in range(num_actuator):\n",
    "        g.write(f\"{actuator_ids[i]}, {actuator_collision_sum[i]}\\n\")"
   ]
  },
  {
   "cell_type": "code",
   "execution_count": 137,
   "id": "c76dcf9a",
   "metadata": {},
   "outputs": [],
   "source": [
    "res = {\n",
    "    \"actuator_collision_count_array\": actuator_collision_count_array.tolist(), \n",
    "    \"collision_count_array_prac\": collision_count_array_prac.tolist(),\n",
    "    \"collision_count_array_test\": collision_count_array_test.tolist(),\n",
    "    \"collision_duration_array_test\": collision_duration_array_test.tolist()\n",
    "}\n",
    "\n",
    "with open(\"results.json\", \"w\") as g:\n",
    "    json.dump(res, g, indent = 2)"
   ]
  },
  {
   "cell_type": "code",
   "execution_count": 138,
   "id": "dbf3bddc",
   "metadata": {},
   "outputs": [
    {
     "name": "stdout",
     "output_type": "stream",
     "text": [
      "[[18.25       28.75       12.29166667 27.79166667]\n",
      " [39.375      42.5        21.91666667 44.79166667]\n",
      " [16.625      31.83333333 14.08333333 34.25      ]\n",
      " [31.75       41.33333333 28.70833333 27.58333333]\n",
      " [28.5        30.04166667 21.58333333 35.83333333]\n",
      " [28.875      20.20833333 12.625      21.5       ]\n",
      " [29.5        34.08333333 18.70833333 16.91666667]\n",
      " [27.         24.875      11.5        19.58333333]\n",
      " [31.375      30.04166667 19.41666667 32.16666667]]\n",
      "[27.91666667 31.51851852 17.87037037 28.93518519]\n",
      "[6.52771868 6.73039881 5.41881882 8.35345051]\n"
     ]
    }
   ],
   "source": [
    "# collision in practice\n",
    "collision_count_array_prac = collision_count_array_prac / 24.0\n",
    "collision_count_array_prac[:, 0] = collision_count_array_prac[:, 0] * 3\n",
    "print(collision_count_array_prac)\n",
    "print(np.mean(collision_count_array_prac, axis=0))\n",
    "print(np.std(collision_count_array_prac, axis=0))"
   ]
  },
  {
   "cell_type": "code",
   "execution_count": 139,
   "id": "48febc8b",
   "metadata": {},
   "outputs": [],
   "source": [
    "np.savetxt(\"collision_count_array_prac.csv\", collision_count_array_prac, delimiter=\",\", fmt='%.2f')"
   ]
  },
  {
   "cell_type": "code",
   "execution_count": 140,
   "id": "cc08c6eb",
   "metadata": {},
   "outputs": [
    {
     "name": "stdout",
     "output_type": "stream",
     "text": [
      "[[ 8.         30.625      12.83333333 18.375     ]\n",
      " [37.25       44.95833333 29.16666667 42.125     ]\n",
      " [15.125      34.45833333 16.04166667 29.29166667]\n",
      " [25.75       37.875      29.25       37.41666667]\n",
      " [37.375      24.70833333 22.41666667 25.54166667]\n",
      " [15.25       18.41666667 10.08333333  9.66666667]\n",
      " [13.375      31.375      15.95833333 11.45833333]\n",
      " [13.         24.66666667  7.375      15.20833333]\n",
      " [23.875      36.04166667 27.25       23.70833333]]\n",
      "[21.         31.45833333 18.93055556 23.64351852]\n",
      "[10.12011199  7.57118991  7.87961603 10.59095146]\n"
     ]
    }
   ],
   "source": [
    "# collision in test\n",
    "collision_count_array_test = collision_count_array_test / 24.0\n",
    "collision_count_array_test[:, 0] = collision_count_array_test[:, 0] * 3\n",
    "print(collision_count_array_test)\n",
    "print(np.mean(collision_count_array_test, axis=0))\n",
    "print(np.std(collision_count_array_test, axis=0))"
   ]
  },
  {
   "cell_type": "code",
   "execution_count": 141,
   "id": "5c34fea1",
   "metadata": {},
   "outputs": [],
   "source": [
    "np.savetxt(\"collision_count_array_test.csv\", collision_count_array_test, delimiter=\",\", fmt='%.2f')"
   ]
  },
  {
   "cell_type": "code",
   "execution_count": 142,
   "id": "80024308",
   "metadata": {},
   "outputs": [
    {
     "name": "stdout",
     "output_type": "stream",
     "text": [
      "[[0.61937416 0.63794607 0.7276298  0.5636977 ]\n",
      " [0.77174497 0.81099135 0.6704712  0.7621566 ]\n",
      " [0.7217351  0.9390206  0.5277401  0.960569  ]\n",
      " [0.7211658  0.9527073  0.8767526  0.9145318 ]\n",
      " [0.90990233 0.78131473 0.5925098  0.7909621 ]\n",
      " [0.57573885 0.49522617 0.43471122 0.45594913]\n",
      " [0.56644934 0.7673444  0.7483559  0.73854584]\n",
      " [0.6003876  0.9215192  0.75468934 0.7353967 ]\n",
      " [0.68308884 0.794173   0.6912546  0.72676617]]\n",
      "[0.6855096  0.78891593 0.6693461  0.7387306 ]\n",
      "[0.10446838 0.1402483  0.12535785 0.1468754 ]\n"
     ]
    }
   ],
   "source": [
    "# collision duration\n",
    "print(collision_duration_array_test)\n",
    "print(np.mean(collision_duration_array_test, axis=0))\n",
    "print(np.std(collision_duration_array_test, axis=0))"
   ]
  },
  {
   "cell_type": "code",
   "execution_count": 143,
   "id": "98057994",
   "metadata": {},
   "outputs": [],
   "source": [
    "np.savetxt(\"collision_duration_array_test.csv\", collision_duration_array_test, delimiter=\",\", fmt='%.2f')"
   ]
  },
  {
   "cell_type": "code",
   "execution_count": 84,
   "id": "21da830b",
   "metadata": {},
   "outputs": [],
   "source": [
    "    mode_list = [\"PRACTICE\", \"CLEAN\", \"VISUAL\", \"HAPTIC\"]\n",
    "    actuator_array = {\"PRACTICE\":[], \"CLEAN\":[], \"VISUAL\":[], \"HAPTIC\":[]}\n",
    "    duration_array = {\"PRACTICE\":[], \"CLEAN\":[], \"VISUAL\":[], \"HAPTIC\":[]}\n",
    "    wall_array = {\"PRACTICE\":[], \"CLEAN\":[], \"VISUAL\":[], \"HAPTIC\":[]}\n",
    "    shape_array = {\"PRACTICE\":[], \"CLEAN\":[], \"VISUAL\":[], \"HAPTIC\":[]}"
   ]
  },
  {
   "cell_type": "code",
   "execution_count": 86,
   "id": "071cf280",
   "metadata": {},
   "outputs": [
    {
     "name": "stdout",
     "output_type": "stream",
     "text": [
      "load 09-07-2023-02-04-42.json, mode = PRACTICE, collision count = 290, after removing duplicate = 210\n",
      "load 09-07-2023-02-11-05.json, mode = CLEAN, collision count = 2010, after removing duplicate = 1425\n",
      "load 09-07-2023-02-25-50.json, mode = VISUAL, collision count = 876, after removing duplicate = 603\n",
      "load 09-07-2023-02-40-51.json, mode = HAPTIC, collision count = 1472, after removing duplicate = 1108\n"
     ]
    }
   ],
   "source": [
    "\n",
    "json_files = [f for f in os.listdir(folder_path) if os.path.isfile(os.path.join(folder_path, f)) and f.endswith('.json')]\n",
    "\n",
    "for json_file in json_files:\n",
    "    with open(os.path.join(folder_path, json_file), 'r') as file:\n",
    "        data = json.load(file)\n",
    "    mode = data[\"mode\"]\n",
    "    shape_indexs = data[\"shapeIndexs\"]\n",
    "    collision_count = data[\"numberOfCollusions\"]\n",
    "    collision_data = remove_duplicate_entry(data['collusionData']) # remove duplicate entry\n",
    "    print(f\"load {json_file}, mode = {mode}, collision count = {collision_count}, after removing duplicate = {len(collision_data)}\")\n",
    "    for i in range(len(collision_data)):\n",
    "        actuator_array[mode].append(collision_data[i]['actutorId'])\n",
    "        duration_array[mode].append(collision_data[i]['duration'])\n",
    "        wall_index = int(collision_data[i]['other'].replace('shape', ''))\n",
    "        wall_array[mode].append(wall_index)\n",
    "        shape_array[mode].append(shape_indexs[wall_index])"
   ]
  },
  {
   "cell_type": "code",
   "execution_count": 87,
   "id": "29e1b460",
   "metadata": {},
   "outputs": [
    {
     "name": "stdout",
     "output_type": "stream",
     "text": [
      "in mode PRACTICE, practice collison = 146, test collison = 64\n",
      "in mode CLEAN, practice collison = 690, test collison = 735\n",
      "in mode VISUAL, practice collison = 295, test collison = 308\n",
      "in mode HAPTIC, practice collison = 667, test collison = 441\n"
     ]
    }
   ],
   "source": [
    "# compare the length of practice and test data, showing the learning effect\n",
    "# only keep the test wall data\n",
    "\n",
    "for mode in mode_list:\n",
    "    prac_wall_indices = np.where(np.array(wall_array[mode]) % 2 == 0)\n",
    "    test_wall_indices = np.where(np.array(wall_array[mode]) % 2 == 1)\n",
    "    print(f\"in mode {mode}, practice collison = {len(prac_wall_indices[0])}, test collison = {len(test_wall_indices[0])}\")\n",
    "    actuator_array[mode] = np.array(actuator_array[mode])[test_wall_indices]\n",
    "    duration_array[mode] = np.array(duration_array[mode])[test_wall_indices]\n",
    "    wall_array[mode] = np.array(wall_array[mode])[test_wall_indices]\n",
    "    shape_array[mode] = np.array(shape_array[mode])[test_wall_indices]"
   ]
  },
  {
   "cell_type": "code",
   "execution_count": 88,
   "id": "d62f23e7",
   "metadata": {},
   "outputs": [
    {
     "name": "stdout",
     "output_type": "stream",
     "text": [
      "PRACTICE 0.61937415599823\n",
      "CLEAN 0.6379460548867985\n",
      "VISUAL 0.7276297730284852\n",
      "HAPTIC 0.5636976938399058\n"
     ]
    }
   ],
   "source": [
    "# average collision duration time\n",
    "\n",
    "for mode in mode_list:\n",
    "    print(mode, np.mean(duration_array[mode]))"
   ]
  },
  {
   "cell_type": "code",
   "execution_count": 94,
   "id": "fddf8b2e",
   "metadata": {},
   "outputs": [
    {
     "name": "stdout",
     "output_type": "stream",
     "text": [
      "[  6  61  64  65  66  67  68  69  70  71  72  73  74  75  76  77  78  91\n",
      "  92  93  94  95  96  97  98  99 100 101 102 103 104 105 106 107 108 109\n",
      " 110 123 124 125 126 127 128 129 130 131 132 133 134 136 139 140 151 152\n",
      " 153 154 155 156 157 158 159 160 161 162 163 164 165 166 167 168 169 170\n",
      " 215]\n",
      "[ 3  2  2  7  1  6  6  9 12  7  6  4  4  4  6  1  1 11 17 20 23  8  8  9\n",
      "  9  6  8  7  7  3  3  3  5  4  5  8  8  1  2 15  8  7  4  5  6  3  2  1\n",
      "  1  4  4  6 12 18 21 10  3  5  5  4  3  4  4  4  5  4  5  7  1  1  1  1\n",
      "  1]\n",
      "[ 0  0  0  0  0  3  0  0  0  0  0  0  0  0  0  0  0  0  0  0  2  0  0  2\n",
      "  7  1  6  6  9 12  7  6  4  4  4  6  1  1  0  0 11 17 20 23  8  8  9  9\n",
      "  6  8  7  7  3  3  3  5  4  5  8  8  0  0  1  2 15  8  7  4  5  6  3  2\n",
      "  1  1  0  4  0  0  4  6 12 18 21 10  3  5  5  4  3  4  4  4  5  4  5  7\n",
      "  1  1  1  1  0  0  0  0  0  0  0  0  0  0  0  0  1  0  0  0]\n"
     ]
    }
   ],
   "source": [
    "# count collisions of each actuator\n",
    "\n",
    "unique_actuators, actuator_counts = np.unique(actuator_array[\"HAPTIC\"], return_counts=True)\n",
    "print(unique_actuators)\n",
    "print(actuator_counts)\n",
    "\n",
    "for actuator, count in zip(unique_actuators, actuator_counts):\n",
    "    actuator_collision_count_array[actuator_ids.index(actuator)] += count\n",
    "\n",
    "print(actuator_collision_count_array)"
   ]
  },
  {
   "cell_type": "code",
   "execution_count": null,
   "id": "453ee2c3",
   "metadata": {},
   "outputs": [],
   "source": []
  }
 ],
 "metadata": {
  "kernelspec": {
   "display_name": "Python 3 (ipykernel)",
   "language": "python",
   "name": "python3"
  },
  "language_info": {
   "codemirror_mode": {
    "name": "ipython",
    "version": 3
   },
   "file_extension": ".py",
   "mimetype": "text/x-python",
   "name": "python",
   "nbconvert_exporter": "python",
   "pygments_lexer": "ipython3",
   "version": "3.9.12"
  }
 },
 "nbformat": 4,
 "nbformat_minor": 5
}
